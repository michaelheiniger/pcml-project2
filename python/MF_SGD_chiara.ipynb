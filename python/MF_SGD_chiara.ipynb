{
 "cells": [
  {
   "cell_type": "code",
   "execution_count": 1,
   "metadata": {
    "collapsed": false
   },
   "outputs": [],
   "source": [
    "# Useful starting lines\n",
    "%matplotlib inline\n",
    "\n",
    "import numpy as np\n",
    "import math\n",
    "import scipy\n",
    "import scipy.io\n",
    "import scipy.sparse as sp\n",
    "import matplotlib.pyplot as plt\n",
    "%load_ext autoreload\n",
    "%autoreload 2"
   ]
  },
  {
   "cell_type": "markdown",
   "metadata": {},
   "source": [
    "## Load the Data\n",
    "Note that `ratings` is a sparse matrix that in the shape of (num_items, num_users)"
   ]
  },
  {
   "cell_type": "code",
   "execution_count": 2,
   "metadata": {
    "collapsed": false
   },
   "outputs": [
    {
     "name": "stdout",
     "output_type": "stream",
     "text": [
      "number of items: 10000, number of users: 1000\n"
     ]
    }
   ],
   "source": [
    "from helpers import load_data, preprocess_data\n",
    "\n",
    "path_dataset = \"/Users/chiara/Documents/EPFL/Master/Ma1/MachineLearning/project2/data/data_train.csv\"\n",
    "ratings = load_data(path_dataset)\n"
   ]
  },
  {
   "cell_type": "markdown",
   "metadata": {},
   "source": [
    "### Plot the number of ratings per movie and user"
   ]
  },
  {
   "cell_type": "code",
   "execution_count": 3,
   "metadata": {
    "collapsed": false,
    "scrolled": true
   },
   "outputs": [
    {
     "data": {
      "image/png": "[encoded data removed]",
      "text/plain": [
       "<matplotlib.figure.Figure at 0x1063922e8>"
      ]
     },
     "metadata": {},
     "output_type": "display_data"
    }
   ],
   "source": [
    "from plots import plot_raw_data\n",
    "\n",
    "num_items_per_user, num_users_per_item = plot_raw_data(ratings)\n"
   ]
  },
  {
   "cell_type": "code",
   "execution_count": 5,
   "metadata": {
    "collapsed": false
   },
   "outputs": [
    {
     "data": {
      "text/plain": [
       "(10000,)"
      ]
     },
     "execution_count": 5,
     "metadata": {},
     "output_type": "execute_result"
    }
   ],
   "source": []
  },
  {
   "cell_type": "markdown",
   "metadata": {},
   "source": [
    "### Split the data into a train and test set"
   ]
  },
  {
   "cell_type": "code",
   "execution_count": 13,
   "metadata": {
    "collapsed": false
   },
   "outputs": [],
   "source": [
    "import math\n",
    "\n",
    "def split_data(seed, ratings, num_items_per_user, num_users_per_item,\n",
    "               min_num_ratings, p_test=0.1):\n",
    "    \"\"\"split the ratings to training data and test data.\n",
    "    Args:\n",
    "        min_num_ratings: \n",
    "            all users and items we keep must have at least min_num_ratings per user and per item. \n",
    "    \"\"\"\n",
    "    # set seed\n",
    "    np.random.seed(seed)\n",
    "    \n",
    "    # select user and item based on the condition.\n",
    "    valid_users = np.where(num_items_per_user >= min_num_ratings)[0]\n",
    "    valid_items = np.where(num_users_per_item >= min_num_ratings)[0]\n",
    "    valid_ratings = ratings[valid_items, :][: , valid_users]  \n",
    "    \n",
    "    I, J, V = sp.find(valid_ratings)\n",
    "    \n",
    "    all_indices = np.arange(I.shape[0])\n",
    "    test_size = math.ceil(I.shape[0]*p_test)\n",
    "    np.random.shuffle(all_indices)\n",
    "    test_indices = all_indices[:test_size]\n",
    "    train_indices = np.delete(all_indices, test_indices, axis=0)\n",
    "\n",
    "    I_train = I[train_indices]\n",
    "    J_train = J[train_indices]\n",
    "    V_train = V[train_indices]\n",
    "    \n",
    "    I_test = I[test_indices]\n",
    "    J_test = J[test_indices]\n",
    "    V_test = V[test_indices]\n",
    "    \n",
    "    test = sp.lil_matrix(sp.coo_matrix((V_test, (I_test, J_test)), (valid_ratings.shape)))\n",
    "    train = sp.lil_matrix(sp.coo_matrix((V_train, (I_train, J_train)), (valid_ratings.shape)))\n",
    "    \n",
    "    '''print(\"Total number of nonzero elements in origial data:{v}\".format(v=ratings.nnz))\n",
    "    print(\"Total number of nonzero elements in train data:{v}\".format(v=train.nnz))\n",
    "    print(\"Total number of nonzero elements in test data:{v}\".format(v=test.nnz))\n",
    "    '''\n",
    "    return valid_ratings, train, test"
   ]
  },
  {
   "cell_type": "markdown",
   "metadata": {},
   "source": [
    "## Learn MF"
   ]
  },
  {
   "cell_type": "markdown",
   "metadata": {},
   "source": [
    "#### Initialize matrix factorization"
   ]
  },
  {
   "cell_type": "code",
   "execution_count": 14,
   "metadata": {
    "collapsed": false
   },
   "outputs": [],
   "source": [
    "def init_MF(train, num_features):\n",
    "    \"\"\"init the parameter for matrix factorization.\"\"\"\n",
    "    \n",
    "    # ***************************************************\n",
    "    # you should return:\n",
    "    #     user_features: shape = num_features, num_user\n",
    "    #     item_features: shape = num_features, num_item\n",
    "    # ***************************************************\n",
    "    \n",
    "    number_items, number_users = train.shape\n",
    "    \n",
    "    user_features = np.random.random((num_features,number_users)) #shape K*N\n",
    "    item_features = np.random.random((num_features,number_items)) #shape K*D\n",
    "    \n",
    "    return user_features, item_features \n"
   ]
  },
  {
   "cell_type": "markdown",
   "metadata": {},
   "source": [
    "Compute the cost by the method of matrix factorization.\n"
   ]
  },
  {
   "cell_type": "code",
   "execution_count": 15,
   "metadata": {
    "collapsed": false
   },
   "outputs": [],
   "source": [
    "def compute_error(data, user_features, item_features, nz):\n",
    "    \"\"\"compute the loss (MSE) of the prediction of nonzero elements.\"\"\"  \n",
    "    # calculate rmse (we only consider nonzero entries.)\n",
    "    prediction = item_features.transpose() @ user_features\n",
    "    error = 0\n",
    "    \n",
    "    for d,n in nz:\n",
    "        error += np.power(data[d,n]- prediction[d,n],2)\n",
    "    \n",
    "    return np.sqrt(error/ len(nz)) "
   ]
  },
  {
   "cell_type": "code",
   "execution_count": 16,
   "metadata": {
    "collapsed": true
   },
   "outputs": [],
   "source": [
    "def prediction(W, Z):\n",
    "    return(W.transpose() @ Z)"
   ]
  },
  {
   "cell_type": "code",
   "execution_count": 17,
   "metadata": {
    "collapsed": false,
    "scrolled": false
   },
   "outputs": [],
   "source": [
    "def matrix_factorization_SGD(train, test, num_features, lmbda_user, lmbda_item, seed):\n",
    "    \"\"\"matrix factorization by SGD.\"\"\"\n",
    "    # define parameters\n",
    "    gamma = 0.01\n",
    "    num_epochs = 20     # number of full passes through the train set\n",
    "    train_errors = []\n",
    "    test_errors =[]\n",
    "    \n",
    "    # set seed\n",
    "    np.random.seed(seed)\n",
    "\n",
    "    # init matrix\n",
    "    #user_features, item_features = init_MF(train, num_features)\n",
    "    Z, W = init_MF(train, num_features)\n",
    "    # find the non-zero ratings indices \n",
    "    nz_row, nz_col = train.nonzero()\n",
    "    nz_train = list(zip(nz_row, nz_col))\n",
    "    nz_row, nz_col = test.nonzero()\n",
    "    nz_test = list(zip(nz_row, nz_col))\n",
    "\n",
    "    print(\"learn the matrix factorization using SGD...\")\n",
    "    for it in range(num_epochs):        \n",
    "        # shuffle the training rating indices\n",
    "        np.random.shuffle(nz_train)\n",
    "        \n",
    "        # decrease step size\n",
    "        gamma /= 1.2\n",
    "        \n",
    "        for d, n in nz_train:\n",
    "            e = train[d,n] - prediction(W[:,d], Z[:,n])\n",
    "            Z[:,n] += gamma *(e * W[:,d] - lmbda_user * Z[:,n]) \n",
    "            W[:,d] += gamma *(e * Z[:,n] - lmbda_item * W[:,d])\n",
    "        \n",
    "        print(\"iter: {}\".format(it))\n",
    "\n",
    "    train_rmse = compute_error(train, Z, W, nz_train)\n",
    "    test_rmse = compute_error(test, Z, W, nz_test)\n",
    "        #train_errors.append(train_rmse)\n",
    "        #test_errors.append(test_rmse)\n",
    "        #print(\"iter: {}, RMSE on training set: {}.\".format(it, train_rmse))\n",
    "        #print(\"RMSE on test data: {}.\".format(test_rmse))\n",
    "    #return test_errors, train_errors\n",
    "    return test_rmse, train_rmse\n",
    "\n",
    "#test_errors, train_errors = matrix_factorization_SGD(train, test, lmbda_user=0, lmbda_item=0)   "
   ]
  },
  {
   "cell_type": "markdown",
   "metadata": {},
   "source": [
    "## Cross validation / parameter selection"
   ]
  },
  {
   "cell_type": "markdown",
   "metadata": {},
   "source": [
    "### CV for lambdas"
   ]
  },
  {
   "cell_type": "code",
   "execution_count": 18,
   "metadata": {
    "collapsed": false
   },
   "outputs": [],
   "source": [
    "def cross_validation_lambdas(kfold, lambdas_user= np.array([0]), lambdas_item = np.array([0])):\n",
    "    \n",
    "    loss_tr = np.zeros((kfold, len(lambdas_user), len(lambdas_item)))\n",
    "    loss_te = np.zeros((kfold, len(lambdas_user), len(lambdas_item)))\n",
    "    num_features = 20\n",
    "\n",
    "    # different split for every fold\n",
    "    for k in range(kfold):\n",
    "        valid_ratings, train, test = split_data(\n",
    "            ratings, num_items_per_user, num_users_per_item, min_num_ratings=10, p_test=0.1)\n",
    "        print(\"fold {k}:\".format(k=k))\n",
    "        \n",
    "        for idx_user, lambda_user in enumerate(lambdas_user):\n",
    "            for idx_item, lambda_item in enumerate(lambdas_item):\n",
    "\n",
    "                loss_te[k, idx_user, idx_item], loss_tr[k, idx_user, idx_item] = matrix_factorization_SGD(train, \n",
    "                                                                                                          test, \n",
    "                                                                                                          num_features,\n",
    "                                                                                                          lambda_user, \n",
    "                                                                                                          lambda_item) \n",
    "        \n",
    "    #train_errors, test_errors = np.mean(loss_tr, axis =0), np.mean(loss_te, axis = 0)\n",
    "    \n",
    "    return loss_tr, loss_te"
   ]
  },
  {
   "cell_type": "markdown",
   "metadata": {},
   "source": [
    "#### lambdas_item"
   ]
  },
  {
   "cell_type": "code",
   "execution_count": 38,
   "metadata": {
    "collapsed": true
   },
   "outputs": [
    {
     "name": "stdout",
     "output_type": "stream",
     "text": [
      "fold 0:\n",
      "learn the matrix factorization using SGD...\n",
      "iter: 0\n",
      "iter: 1\n",
      "iter: 2\n",
      "iter: 3\n",
      "iter: 4\n",
      "iter: 5\n",
      "iter: 6\n",
      "iter: 7\n",
      "iter: 8\n",
      "iter: 9\n",
      "iter: 10\n",
      "iter: 11\n",
      "iter: 12\n",
      "iter: 13\n",
      "iter: 14\n",
      "iter: 15\n",
      "iter: 16\n",
      "iter: 17\n",
      "iter: 18\n",
      "iter: 19\n",
      "learn the matrix factorization using SGD...\n",
      "iter: 0\n",
      "iter: 1\n",
      "iter: 2\n",
      "iter: 3\n",
      "iter: 4\n",
      "iter: 5\n",
      "iter: 6\n",
      "iter: 7\n",
      "iter: 8\n",
      "iter: 9\n",
      "iter: 10\n",
      "iter: 11\n",
      "iter: 12\n",
      "iter: 13\n",
      "iter: 14\n",
      "iter: 15\n",
      "iter: 16\n",
      "iter: 17\n",
      "iter: 18\n",
      "iter: 19\n",
      "learn the matrix factorization using SGD...\n",
      "iter: 0\n",
      "iter: 1\n",
      "iter: 2\n",
      "iter: 3\n",
      "iter: 4\n",
      "iter: 5\n",
      "iter: 6\n",
      "iter: 7\n",
      "iter: 8\n",
      "iter: 9\n",
      "iter: 10\n",
      "iter: 11\n",
      "iter: 12\n",
      "iter: 13\n",
      "iter: 14\n",
      "iter: 15\n",
      "iter: 16\n",
      "iter: 17\n",
      "iter: 18\n",
      "iter: 19\n",
      "learn the matrix factorization using SGD...\n",
      "iter: 0\n",
      "iter: 1\n",
      "iter: 2\n",
      "iter: 3\n",
      "iter: 4\n",
      "iter: 5\n",
      "iter: 6\n",
      "iter: 7\n",
      "iter: 8\n",
      "iter: 9\n",
      "iter: 10\n",
      "iter: 11\n",
      "iter: 12\n",
      "iter: 13\n",
      "iter: 14\n",
      "iter: 15\n",
      "iter: 16\n",
      "iter: 17\n",
      "iter: 18\n",
      "iter: 19\n",
      "learn the matrix factorization using SGD...\n",
      "iter: 0\n",
      "iter: 1\n",
      "iter: 2\n",
      "iter: 3\n",
      "iter: 4\n",
      "iter: 5\n",
      "iter: 6\n",
      "iter: 7\n",
      "iter: 8\n",
      "iter: 9\n",
      "iter: 10\n",
      "iter: 11\n",
      "iter: 12\n",
      "iter: 13\n",
      "iter: 14\n",
      "iter: 15\n",
      "iter: 16\n",
      "iter: 17\n",
      "iter: 18\n",
      "iter: 19\n",
      "learn the matrix factorization using SGD...\n",
      "iter: 0\n",
      "iter: 1\n",
      "iter: 2\n",
      "iter: 3\n",
      "iter: 4\n",
      "iter: 5\n",
      "iter: 6\n",
      "iter: 7\n",
      "iter: 8\n",
      "iter: 9\n",
      "iter: 10\n",
      "iter: 11\n",
      "iter: 12\n",
      "iter: 13\n",
      "iter: 14\n",
      "iter: 15\n",
      "iter: 16\n",
      "iter: 17\n",
      "iter: 18\n",
      "iter: 19\n",
      "learn the matrix factorization using SGD...\n",
      "iter: 0\n",
      "iter: 1\n",
      "iter: 2\n",
      "iter: 3\n",
      "iter: 4\n",
      "iter: 5\n",
      "iter: 6\n",
      "iter: 7\n",
      "iter: 8\n",
      "iter: 9\n",
      "iter: 10\n",
      "iter: 11\n",
      "iter: 12\n",
      "iter: 13\n",
      "iter: 14\n",
      "iter: 15\n",
      "iter: 16\n",
      "iter: 17\n",
      "iter: 18\n",
      "iter: 19\n"
     ]
    }
   ],
   "source": [
    "kfold = 1\n",
    "loss_tr, loss_te = cross_validation_lambdas(kfold, lambdas_user= np.array([0]),lambdas_item = np.array([0.001, 0.01, 0.1, 0.15, 0.20, 0.25, 0.3]))"
   ]
  },
  {
   "cell_type": "code",
   "execution_count": 41,
   "metadata": {
    "collapsed": true
   },
   "outputs": [],
   "source": [
    "train_errors, test_errors = np.mean(loss_tr, axis =0), np.mean(loss_te, axis = 0)\n",
    "min_idx = np.argmin(train_errors)\n",
    "dev = np.std(loss_tr[:,0,min_idx], axis = 0) # std deviation over the folds\n",
    "\n",
    "lambdas = np.array([0.001, 0.01, 0.1, 0.15, 0.20, 0.25, 0.3])"
   ]
  },
  {
   "cell_type": "code",
   "execution_count": 49,
   "metadata": {
    "collapsed": false,
    "scrolled": false
   },
   "outputs": [
    {
     "data": {
      "image/png": "[encoded data removed]",
      "text/plain": [
       "<matplotlib.figure.Figure at 0x12bb33358>"
      ]
     },
     "metadata": {},
     "output_type": "display_data"
    }
   ],
   "source": [
    "np.save('rmse_train_lambdas_item', loss_tr)\n",
    "np.save('rmse_test_lambdas_item', loss_te)\n",
    "plt.plot(lambdas, train_errors.flatten(), marker='o', label='Training Data');\n",
    "plt.plot(lambdas, test_errors.flatten(), marker='v', label='Test Data');\n",
    "plt.title('Train and Test errors versus lambdas_item (lambdas_user = 0)')\n",
    "plt.xlabel('Lambda_item');\n",
    "plt.ylabel('RMSE');\n",
    "#plt.xscale('log')\n",
    "plt.legend()\n",
    "plt.grid()\n",
    "plt.savefig('rmse_vs_lambdas_item')\n",
    "plt.show()\n",
    "\n"
   ]
  },
  {
   "cell_type": "markdown",
   "metadata": {},
   "source": [
    "#### lambdas_user"
   ]
  },
  {
   "cell_type": "code",
   "execution_count": 53,
   "metadata": {
    "collapsed": true
   },
   "outputs": [
    {
     "name": "stdout",
     "output_type": "stream",
     "text": [
      "fold 0:\n",
      "learn the matrix factorization using SGD...\n",
      "iter: 0\n",
      "iter: 1\n",
      "iter: 2\n",
      "iter: 3\n",
      "iter: 4\n",
      "iter: 5\n",
      "iter: 6\n",
      "iter: 7\n",
      "iter: 8\n",
      "iter: 9\n",
      "iter: 10\n",
      "iter: 11\n",
      "iter: 12\n",
      "iter: 13\n",
      "iter: 14\n",
      "iter: 15\n",
      "iter: 16\n",
      "iter: 17\n",
      "iter: 18\n",
      "iter: 19\n",
      "learn the matrix factorization using SGD...\n",
      "iter: 0\n",
      "iter: 1\n",
      "iter: 2\n",
      "iter: 3\n",
      "iter: 4\n",
      "iter: 5\n",
      "iter: 6\n",
      "iter: 7\n",
      "iter: 8\n",
      "iter: 9\n",
      "iter: 10\n",
      "iter: 11\n",
      "iter: 12\n",
      "iter: 13\n",
      "iter: 14\n",
      "iter: 15\n",
      "iter: 16\n",
      "iter: 17\n",
      "iter: 18\n",
      "iter: 19\n",
      "learn the matrix factorization using SGD...\n",
      "iter: 0\n",
      "iter: 1\n",
      "iter: 2\n",
      "iter: 3\n",
      "iter: 4\n",
      "iter: 5\n",
      "iter: 6\n",
      "iter: 7\n",
      "iter: 8\n",
      "iter: 9\n",
      "iter: 10\n",
      "iter: 11\n",
      "iter: 12\n",
      "iter: 13\n",
      "iter: 14\n",
      "iter: 15\n",
      "iter: 16\n",
      "iter: 17\n",
      "iter: 18\n",
      "iter: 19\n",
      "learn the matrix factorization using SGD...\n",
      "iter: 0\n",
      "iter: 1\n",
      "iter: 2\n",
      "iter: 3\n",
      "iter: 4\n",
      "iter: 5\n",
      "iter: 6\n",
      "iter: 7\n",
      "iter: 8\n",
      "iter: 9\n",
      "iter: 10\n",
      "iter: 11\n",
      "iter: 12\n",
      "iter: 13\n",
      "iter: 14\n",
      "iter: 15\n",
      "iter: 16\n",
      "iter: 17\n",
      "iter: 18\n",
      "iter: 19\n",
      "learn the matrix factorization using SGD...\n",
      "iter: 0\n",
      "iter: 1\n",
      "iter: 2\n",
      "iter: 3\n",
      "iter: 4\n",
      "iter: 5\n",
      "iter: 6\n",
      "iter: 7\n",
      "iter: 8\n",
      "iter: 9\n",
      "iter: 10\n",
      "iter: 11\n",
      "iter: 12\n",
      "iter: 13\n",
      "iter: 14\n",
      "iter: 15\n",
      "iter: 16\n",
      "iter: 17\n",
      "iter: 18\n",
      "iter: 19\n"
     ]
    }
   ],
   "source": [
    "kfold = 1\n",
    "loss_tr, loss_te = cross_validation_lambdas(kfold, lambdas_user = np.array([0.001, 0.05, 0.1, 0.15, 0.20, 0.25, 0.3]), )"
   ]
  },
  {
   "cell_type": "code",
   "execution_count": 55,
   "metadata": {
    "collapsed": false,
    "scrolled": true
   },
   "outputs": [
    {
     "data": {
      "image/png": "[encoded data removed]",
      "text/plain": [
       "<matplotlib.figure.Figure at 0x10fdaab70>"
      ]
     },
     "metadata": {},
     "output_type": "display_data"
    }
   ],
   "source": [
    "np.save('rmse_train_lambdas_user3', loss_tr)\n",
    "np.save('rmse_test_lambdas_user3', loss_te)\n",
    "\n",
    "lambdas= np.array([0, 0.0000001, 0.000001, 0.00001, 0.0001])\n",
    "train_errors, test_errors = np.mean(loss_tr, axis =0), np.mean(loss_te, axis = 0)\n",
    "plt.plot(lambdas, train_errors.flatten(), marker='o', label='Training Data');\n",
    "plt.plot(lambdas, test_errors.flatten(), marker='v', label='Test Data');\n",
    "plt.title('Train and Test errors versus lambdas_user (lambdas_item = 0)')\n",
    "plt.xlabel('Lambda_user');\n",
    "plt.ylabel('RMSE');\n",
    "plt.xscale('log')\n",
    "plt.legend()\n",
    "plt.grid()\n",
    "plt.savefig('rmse_vs_lambdas_user3')\n",
    "plt.show()"
   ]
  },
  {
   "cell_type": "code",
   "execution_count": 60,
   "metadata": {
    "collapsed": false
   },
   "outputs": [
    {
     "data": {
      "image/png": "[encoded data removed]",
      "text/plain": [
       "<matplotlib.figure.Figure at 0x110374c18>"
      ]
     },
     "metadata": {},
     "output_type": "display_data"
    }
   ],
   "source": [
    "loss_tr_, loss_te_ = np.load('rmse_train_lambdas_user.npy'), np.load('rmse_test_lambdas_user.npy')\n",
    "lambdas= np.array([0, 0.0000001, 0.000001, 0.00001, 0.0001])\n",
    "lambdas= np.array([0.001, 0.05, 0.1, 0.15, 0.20, 0.25, 0.3])\n",
    "\n",
    "train_errors, test_errors = np.mean(loss_tr_, axis =0), np.mean(loss_te_, axis = 0)\n",
    "plt.plot(lambdas, train_errors.flatten(), marker='o', label='Training Data');\n",
    "plt.plot(lambdas, test_errors.flatten(), marker='v', label='Test Data');\n",
    "plt.title('Train and Test errors versus lambdas_user (lambdas_item = 0)')\n",
    "plt.xlabel('Lambda_user');\n",
    "plt.ylabel('RMSE');\n",
    "#plt.xscale('log')\n",
    "plt.legend()\n",
    "plt.grid()\n",
    "plt.savefig('rmse_vs_lambdas_user')\n",
    "plt.show()"
   ]
  },
  {
   "cell_type": "code",
   "execution_count": 67,
   "metadata": {
    "collapsed": false
   },
   "outputs": [
    {
     "data": {
      "image/png": "[encoded data removed]",
      "text/plain": [
       "<matplotlib.figure.Figure at 0x12657c1d0>"
      ]
     },
     "metadata": {},
     "output_type": "display_data"
    }
   ],
   "source": [
    "\n",
    "loss_tr1, loss_te1 = np.load('rmse_train_lambdas_user.npy'), np.load('rmse_test_lambdas_user.npy')\n",
    "loss_tr3, loss_te3 = np.load('rmse_train_lambdas_user3.npy'), np.load('rmse_test_lambdas_user3.npy')\n",
    "\n",
    "loss_tr_ = np.concatenate((loss_tr3.flatten(), loss_tr1.flatten()))\n",
    "loss_te_ = np.concatenate((loss_te3.flatten(), loss_te1.flatten()))\n",
    "\n",
    "lambdas= np.array([0, 0.0000001, 0.000001, 0.00001, 0.0001, 0.001, 0.05, 0.1, 0.15, 0.20, 0.25, 0.3])\n",
    "\n",
    "plt.plot(lambdas, loss_tr_, marker='o', label='Training Data');\n",
    "plt.plot(lambdas, loss_te_, marker='v', label='Test Data');\n",
    "plt.title('Train and Test errors versus lambdas_user (lambdas_item = 0)')\n",
    "plt.xlabel('Lambda_user');\n",
    "plt.ylabel('RMSE');\n",
    "plt.xscale('log')\n",
    "plt.legend()\n",
    "plt.grid()\n",
    "plt.savefig('rmse_vs_lambdas_user4')\n",
    "plt.show()"
   ]
  },
  {
   "cell_type": "markdown",
   "metadata": {},
   "source": [
    "### CV for num_features"
   ]
  },
  {
   "cell_type": "code",
   "execution_count": 19,
   "metadata": {
    "collapsed": true
   },
   "outputs": [],
   "source": [
    "def cross_validation_numfeatures(kfold, K, lambda_user= 0, lambda_item = 0):\n",
    "    \n",
    "    #K is the array of num_features\n",
    "    \n",
    "    loss_tr = np.zeros((kfold, len(K)))\n",
    "    loss_te = np.zeros((kfold, len(K)))\n",
    "\n",
    "\n",
    "    # different split for every fold\n",
    "    for k in range(kfold):\n",
    "        seed= k*3 +1\n",
    "        valid_ratings, train, test = split_data(\n",
    "            seed, ratings, num_items_per_user, num_users_per_item, min_num_ratings=0, p_test=0.1)\n",
    "        print(\"fold {k}:\".format(k=k))\n",
    "        \n",
    "        for idx, num_features in enumerate(K):\n",
    "                loss_te[k, idx], loss_tr[k, idx] = matrix_factorization_SGD(train, test, num_features, lambda_user, \n",
    "                                                                            lambda_item, seed)         \n",
    "    # train_errors, test_errors = np.mean(loss_tr, axis =0), np.mean(loss_te, axis = 0)\n",
    "    \n",
    "    return loss_tr, loss_te"
   ]
  },
  {
   "cell_type": "code",
   "execution_count": 29,
   "metadata": {
    "collapsed": false
   },
   "outputs": [],
   "source": [
    "K = np.array([5, 10, 15, 20, 25, 30, 35, 40, 45, 50, 55, 60, 65, 70, 75, 80, 85, 90, 95, 100])\n",
    "kfold = 4\n",
    "#loss_tr, loss_te = cross_validation_numfeatures(kfold, K, lambda_user= 0, lambda_item = 0.15)"
   ]
  },
  {
   "cell_type": "code",
   "execution_count": 21,
   "metadata": {
    "collapsed": false
   },
   "outputs": [
    {
     "data": {
      "image/png": "[encoded data removed]",
      "text/plain": [
       "<matplotlib.figure.Figure at 0x10f671b70>"
      ]
     },
     "metadata": {},
     "output_type": "display_data"
    }
   ],
   "source": [
    "# save and plot\n",
    "\n",
    "np.save('train_numfeatures_cv.npy', loss_tr)\n",
    "np.save('test_numfeatures_cv.npy', loss_te)\n",
    "train_errors, test_errors = np.mean(loss_tr, axis =0), np.mean(loss_te, axis = 0)\n",
    "\n",
    "\n",
    "plt.plot(K, train_errors.flatten(), marker='o', label='Training Data');\n",
    "plt.plot(K, test_errors.flatten(), marker='v', label='Test Data');\n",
    "plt.title('Train and Test errors versus num_features')\n",
    "plt.xlabel('num_features (for lambda_item = 0.15, lambda_user = 0)');\n",
    "plt.ylabel('RMSE');\n",
    "plt.legend()\n",
    "plt.grid()\n",
    "plt.savefig('rmse_vs_numfeatures_cv')\n",
    "plt.show()"
   ]
  },
  {
   "cell_type": "code",
   "execution_count": 28,
   "metadata": {
    "collapsed": false
   },
   "outputs": [
    {
     "data": {
      "image/png": "[encoded data removed]",
      "text/plain": [
       "<matplotlib.figure.Figure at 0x12e6da5f8>"
      ]
     },
     "metadata": {},
     "output_type": "display_data"
    }
   ],
   "source": [
    "plt.plot(\n",
    "        K,\n",
    "        loss_tr.T,\n",
    "        'b',\n",
    "        linestyle=\"-\",\n",
    "        color=([0.7, 0.7, 1]),\n",
    "        linewidth=0.5)\n",
    "plt.plot(\n",
    "        K,\n",
    "        loss_te.T,\n",
    "        'r',\n",
    "        linestyle=\"-\",\n",
    "        color=[1, 0.7, 0.7],\n",
    "        linewidth=0.5)\n",
    "plt.plot(\n",
    "        K,\n",
    "        train_errors.flatten(),\n",
    "        'b',\n",
    "        linestyle=\"-\",\n",
    "        marker='o',\n",
    "        label='mean train',\n",
    "        linewidth=1)\n",
    "plt.plot(\n",
    "        K,\n",
    "        test_errors.flatten(),\n",
    "        'r',\n",
    "        linestyle=\"-\",\n",
    "        marker='v',\n",
    "        label='mean test',\n",
    "        linewidth=1)\n",
    "plt.xlabel(\"num_features (for lambda_item = 0.15, lambda_user = 0)\")\n",
    "plt.ylabel(\"RMSE\")\n",
    "plt.legend(loc=1)\n",
    "plt.grid(True)\n",
    "plt.title(\"RMSE vs num_features\")\n",
    "plt.savefig(\"cv_numfeatures\")\n",
    "plt.show() \n",
    "\n",
    "    "
   ]
  },
  {
   "cell_type": "markdown",
   "metadata": {},
   "source": [
    "## learning curve"
   ]
  },
  {
   "cell_type": "code",
   "execution_count": 104,
   "metadata": {
    "collapsed": true
   },
   "outputs": [],
   "source": [
    "def matrix_factorization_SGD_iter(train, test, num_features, lmbda_user, lmbda_item):\n",
    "    \"\"\"matrix factorization by SGD.\"\"\"\n",
    "    # define parameters\n",
    "    gamma = 0.01\n",
    "    num_epochs = 16     # number of full passes through the train set\n",
    "    train_errors = []\n",
    "    test_errors =[]\n",
    "    \n",
    "    # set seed\n",
    "    np.random.seed(988)\n",
    "\n",
    "    # init matrix\n",
    "    #user_features, item_features = init_MF(train, num_features)\n",
    "    Z, W = init_MF(train, num_features)\n",
    "    # find the non-zero ratings indices \n",
    "    nz_row, nz_col = train.nonzero()\n",
    "    nz_train = list(zip(nz_row, nz_col))\n",
    "    nz_row, nz_col = test.nonzero()\n",
    "    nz_test = list(zip(nz_row, nz_col))\n",
    "\n",
    "    print(\"learn the matrix factorization using SGD...\")\n",
    "    for it in range(num_epochs):        \n",
    "        # shuffle the training rating indices\n",
    "        np.random.shuffle(nz_train)\n",
    "        \n",
    "        # decrease step size\n",
    "        gamma /= 1.2\n",
    "        \n",
    "        for d, n in nz_train:\n",
    "            e = train[d,n] - prediction(W[:,d], Z[:,n])\n",
    "            Z[:,n] += gamma *(e * W[:,d] - lmbda_user * Z[:,n]) \n",
    "            W[:,d] += gamma *(e * Z[:,n] - lmbda_item * W[:,d])\n",
    "        \n",
    "        print(\"iter: {}\".format(it))\n",
    "\n",
    "        train_rmse = compute_error(train, Z, W, nz_train)\n",
    "        #test_rmse = compute_error(test, Z, W, nz_test)\n",
    "        train_errors.append(train_rmse)\n",
    "        #test_errors.append(test_rmse)\n",
    "        #print(\"iter: {}, RMSE on training set: {}.\".format(it, train_rmse))\n",
    "        #print(\"RMSE on test data: {}.\".format(test_rmse))\n",
    "    return train_errors, Z, W"
   ]
  },
  {
   "cell_type": "code",
   "execution_count": 110,
   "metadata": {
    "collapsed": false,
    "scrolled": true
   },
   "outputs": [
    {
     "name": "stdout",
     "output_type": "stream",
     "text": [
      "Total number of nonzero elements in origial data:1176952\n",
      "Total number of nonzero elements in train data:1176952\n",
      "Total number of nonzero elements in test data:0\n",
      "learn the matrix factorization using SGD...\n",
      "iter: 0\n",
      "iter: 1\n",
      "iter: 2\n",
      "iter: 3\n",
      "iter: 4\n",
      "iter: 5\n",
      "iter: 6\n",
      "iter: 7\n",
      "iter: 8\n",
      "iter: 9\n",
      "iter: 10\n",
      "iter: 11\n",
      "iter: 12\n",
      "iter: 13\n",
      "iter: 14\n",
      "iter: 15\n"
     ]
    }
   ],
   "source": [
    "valid_ratings, train, test = split_data(ratings, num_items_per_user, num_users_per_item, min_num_ratings=0, p_test=0)\n",
    "train_errors, Z_opt, W_opt = matrix_factorization_SGD_iter(train, test, 100, 0, 0.15)"
   ]
  },
  {
   "cell_type": "code",
   "execution_count": 111,
   "metadata": {
    "collapsed": false
   },
   "outputs": [
    {
     "data": {
      "image/png": "[encoded data removed]",
      "text/plain": [
       "<matplotlib.figure.Figure at 0x10d998860>"
      ]
     },
     "metadata": {},
     "output_type": "display_data"
    }
   ],
   "source": [
    "# Check performance by plotting train and test errors\n",
    "import matplotlib.pyplot as plt\n",
    "\n",
    "np.save('Z_opt_2', Z_opt)\n",
    "np.save('W_opt_2', W_opt)\n",
    "plt.plot(range(16), train_errors, marker='o', label='Training Data');\n",
    "#plt.plot(range(30), test_errors, marker='v', label='Test Data');\n",
    "plt.title('SGD Learning Curve, lambda_item')\n",
    "plt.xlabel('Number of Epochs');\n",
    "plt.ylabel('RMSE');\n",
    "plt.legend()\n",
    "plt.grid()\n",
    "plt.savefig('learningcurve_3')\n",
    "plt.show()"
   ]
  },
  {
   "cell_type": "markdown",
   "metadata": {},
   "source": [
    "## create submission file"
   ]
  },
  {
   "cell_type": "code",
   "execution_count": 112,
   "metadata": {
    "collapsed": false
   },
   "outputs": [
    {
     "name": "stdout",
     "output_type": "stream",
     "text": [
      "999   0\n"
     ]
    }
   ],
   "source": [
    "from collections import deque\n",
    "import datetime\n",
    "from helpers import *\n",
    "now = datetime.datetime.now()\n",
    "now_str = now.strftime(\"%d-%m-%Y_%Hh%M_%S\")\n",
    "output_path = '/Users/chiara/Documents/EPFL/Master/Ma1/MachineLearning/project2/data/predictions-%s-group-clm.csv' % now_str\n",
    "\n",
    "indices = extract_indices('/Users/chiara/Documents/EPFL/Master/Ma1/MachineLearning/project2/data/sampleSubmission.csv')\n",
    "\n",
    "X_pred = prediction(W_opt,Z_opt) # Shape is DxN (D items, N users)\n",
    "ratings_to_write = deque()\n",
    "for row, col in indices:\n",
    "    ratings_to_write.append((row, col, X_pred[row,col]))\n",
    "    \n",
    "create_csv_submission(ratings_to_write, output_path)"
   ]
  },
  {
   "cell_type": "markdown",
   "metadata": {
    "collapsed": true
   },
   "source": [
    "## Documentation"
   ]
  },
  {
   "cell_type": "raw",
   "metadata": {},
   "source": [
    "SGD without regularization (gamma = 0.01, num_features = 20, num_epochs = 20):\n",
    "    train RMSE = 0.68396\n",
    "    test RMSE  = 0.68573\n",
    "    \n",
    "    \n",
    "cross_validiation/ model selection:\n",
    "1) fix lambda_user =0\n",
    "   lambdas_item = np.array([0.001, 0.01, 0.1, 0.15, 0.20, 0.25, 0.3])\n",
    "   best lambda_item = 0.15\n",
    "   \n",
    "2) fix lambda_item = 0\n",
    "   lambdas= np.array([0, 0.0000001, 0.000001, 0.00001, 0.0001, 0.001, 0.05, 0.1, 0.15, 0.20, 0.25, 0.3])\n",
    "   \n",
    "   best lambda_user = 0\n",
    "   \n",
    "3) lambda_item = 0.15\n",
    "   lambda_user = 0\n",
    "   number features K = {5, 10, 15, 20, 25, 30, 35, 40}\n",
    "   "
   ]
  }
 ],
 "metadata": {
  "anaconda-cloud": {},
  "kernelspec": {
   "display_name": "Python [Root]",
   "language": "python",
   "name": "Python [Root]"
  },
  "language_info": {
   "codemirror_mode": {
    "name": "ipython",
    "version": 3
   },
   "file_extension": ".py",
   "mimetype": "text/x-python",
   "name": "python",
   "nbconvert_exporter": "python",
   "pygments_lexer": "ipython3",
   "version": "3.5.2"
  }
 },
 "nbformat": 4,
 "nbformat_minor": 0
}
