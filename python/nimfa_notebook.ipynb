{
 "cells": [
  {
   "cell_type": "code",
   "execution_count": 8,
   "metadata": {
    "collapsed": false
   },
   "outputs": [
    {
     "name": "stdout",
     "output_type": "stream",
     "text": [
      "The autoreload extension is already loaded. To reload it, use:\n",
      "  %reload_ext autoreload\n"
     ]
    }
   ],
   "source": [
    "%matplotlib inline\n",
    "import numpy as np\n",
    "import scipy\n",
    "import scipy.io\n",
    "import scipy.sparse as sp\n",
    "import matplotlib.pyplot as plt\n",
    "import nimfa as nf\n",
    "from helpers import *\n",
    "from plots import *\n",
    "from mf_sgd import *\n",
    "%load_ext autoreload\n",
    "%autoreload 2"
   ]
  },
  {
   "cell_type": "code",
   "execution_count": 9,
   "metadata": {
    "collapsed": false
   },
   "outputs": [
    {
     "name": "stdout",
     "output_type": "stream",
     "text": [
      "number of items: 10000, number of users: 1000\n"
     ]
    },
    {
     "data": {
      "image/png": "[encoded data removed]",
      "text/plain": [
       "<matplotlib.figure.Figure at 0x7f4d97136a20>"
      ]
     },
     "metadata": {},
     "output_type": "display_data"
    }
   ],
   "source": [
    "path_dataset = \"../data/data_train.csv\"\n",
    "ratings = load_data(path_dataset)\n",
    "\n",
    "num_items_per_user, num_users_per_item = plot_raw_data(ratings)"
   ]
  },
  {
   "cell_type": "code",
   "execution_count": 10,
   "metadata": {
    "collapsed": false
   },
   "outputs": [
    {
     "name": "stdout",
     "output_type": "stream",
     "text": [
      "Total number of nonzero elements in origial data:1176952\n",
      "Total number of nonzero elements in train data:1059256\n",
      "Total number of nonzero elements in test data:117696\n",
      "(10000, 1000)\n",
      "(10000, 1000)\n",
      "(10000, 1000)\n"
     ]
    }
   ],
   "source": [
    "from helpers import *\n",
    "valid_ratings, train, test = split_data(ratings, num_items_per_user, num_users_per_item, min_num_ratings=0, p_test=0.1)\n",
    "\n",
    "#plot_train_test_data(train, test)\n",
    "\n",
    "print(valid_ratings.shape)\n",
    "print(train.shape)\n",
    "print(test.shape)"
   ]
  },
  {
   "cell_type": "code",
   "execution_count": 17,
   "metadata": {
    "collapsed": false
   },
   "outputs": [
    {
     "name": "stdout",
     "output_type": "stream",
     "text": [
      "[20 21 22 23 24 25 26 27 28 29 30 31 32 33 34 35 36 37 38 39 40 41 42 43 44\n",
      " 45 46 47 48 49 50]\n"
     ]
    }
   ],
   "source": [
    "print(np.arange(20,51))"
   ]
  },
  {
   "cell_type": "code",
   "execution_count": 99,
   "metadata": {
    "collapsed": false
   },
   "outputs": [
    {
     "data": {
      "text/plain": [
       "'print(\"Euclidean distance: %5.3f\" % nmf_fit.distance(metric=\"euclidean\"))\\nprint(\\'Initialization type: %s\\' % nmf_fit.seeding)\\nprint(\\'Iterations: %d\\' % nmf_fit.n_iter)\\n\\n'"
      ]
     },
     "execution_count": 99,
     "metadata": {},
     "output_type": "execute_result"
    }
   ],
   "source": [
    "import numpy as np\n",
    "\n",
    "import nimfa\n",
    "\n",
    "V = valid_ratings\n",
    "\n",
    "num_features = 20\n",
    "\n",
    "#init_W = np.random.rand(V.shape[0], num_features)\n",
    "#init_H = np.random.rand(num_features, V.shape[1])\n",
    "\n",
    "# MF on train set usi\n",
    "nmf = nimfa.Nmf(V, seed=\"random\")\n",
    "nmf_fit = nmf()\n",
    "\n",
    "\n",
    "W = nmf.basis()\n",
    "Z = nmf.coef()\n",
    "\n",
    "\"\"\"\n",
    "rank_range = np.arange(20,51)\n",
    "n_run = 10\n",
    "summaries = nmf.estimate_rank(rank_range,n_run)\n",
    "\"\"\"\n",
    "\"\"\"print(\"Euclidean distance: %5.3f\" % nmf_fit.distance(metric=\"euclidean\"))\n",
    "print('Initialization type: %s' % nmf_fit.seeding)\n",
    "print('Iterations: %d' % nmf_fit.n_iter)\n",
    "\n",
    "\"\"\""
   ]
  },
  {
   "cell_type": "code",
   "execution_count": 84,
   "metadata": {
    "collapsed": false
   },
   "outputs": [],
   "source": [
    "def compute_error(data, W, Z):\n",
    "    mse = 0\n",
    "    rows, cols = data.nonzero()\n",
    "    omega = list(zip(rows, cols))\n",
    "    WZ = np.dot(W, Z)\n",
    "    for d, n in omega:\n",
    "        mse += np.power(data[d,n] - WZ[d,n], 2)\n",
    "    \n",
    "    rmse = np.sqrt(mse/len(omega))\n",
    "    return rmse"
   ]
  },
  {
   "cell_type": "code",
   "execution_count": 100,
   "metadata": {
    "collapsed": false
   },
   "outputs": [],
   "source": [
    "# Compute error on train set\n",
    "rmse_train = compute_error(train, W, Z)\n",
    "\n",
    "# Compute error on test set\n",
    "rmse_test = compute_error(test, W, Z)\n"
   ]
  },
  {
   "cell_type": "code",
   "execution_count": 104,
   "metadata": {
    "collapsed": false
   },
   "outputs": [
    {
     "name": "stdout",
     "output_type": "stream",
     "text": [
      "2.97784822711\n",
      "2.97590203131\n"
     ]
    }
   ],
   "source": [
    "print(rmse_train)\n",
    "print(rmse_test)"
   ]
  },
  {
   "cell_type": "code",
   "execution_count": 97,
   "metadata": {
    "collapsed": false
   },
   "outputs": [
    {
     "name": "stdout",
     "output_type": "stream",
     "text": [
      "999   0\n"
     ]
    }
   ],
   "source": [
    "from collections import deque\n",
    "import datetime\n",
    "from helpers import *\n",
    "now = datetime.datetime.now()\n",
    "now_str = now.strftime(\"%d-%m-%Y_%Hh%M_%S\")\n",
    "output_path = '../data/predictions-%s-group-clm.csv' % now_str\n",
    "\n",
    "indices = extract_indices('../data/sampleSubmission.csv')\n",
    "\n",
    "WZ = np.dot(W, Z)\n",
    "ratings_to_write = deque()\n",
    "for row, col in indices:\n",
    "    ratings_to_write.append((row, col, WZ[row,col]))\n",
    "    \n",
    "create_csv_submission(ratings_to_write, output_path)\n"
   ]
  },
  {
   "cell_type": "code",
   "execution_count": 73,
   "metadata": {
    "collapsed": false
   },
   "outputs": [
    {
     "name": "stdout",
     "output_type": "stream",
     "text": [
      "13058556.3516\n",
      "13058556.3516\n",
      "13058556.3516\n",
      "13058556.3516\n",
      "13058556.3516\n",
      "13058556.3516\n",
      "13058556.3516\n",
      "13058556.3516\n",
      "13058556.3516\n",
      "13058556.3516\n",
      "13058556.3516\n",
      "13058556.3516\n",
      "13058556.3516\n",
      "13058556.3516\n",
      "13058556.3516\n",
      "13058556.3516\n",
      "13058556.3516\n",
      "13058556.3516\n",
      "13058556.3516\n",
      "13058556.3516\n",
      "13058556.3516\n",
      "13058556.3516\n",
      "13058556.3516\n",
      "13058556.3516\n",
      "13058556.3516\n",
      "13058556.3516\n",
      "13058556.3516\n",
      "13058556.3516\n",
      "13058556.3516\n",
      "13058556.3516\n",
      "13058556.3516\n",
      "13058556.3516\n",
      "13058556.3516\n",
      "13058556.3516\n",
      "13058556.3516\n",
      "13058556.3516\n",
      "13058556.3516\n",
      "13058556.3516\n",
      "13058556.3516\n",
      "13058556.3516\n",
      "13058556.3516\n",
      "13058556.3516\n",
      "13058556.3516\n",
      "13058556.3516\n",
      "13058556.3516\n",
      "13058556.3516\n",
      "13058556.3516\n",
      "13058556.3516\n",
      "13058556.3516\n",
      "13058556.3516\n",
      "13058556.3516\n",
      "13058556.3516\n",
      "13058556.3516\n",
      "13058556.3516\n",
      "13058556.3516\n",
      "13058556.3516\n",
      "13058556.3516\n",
      "13058556.3516\n",
      "13058556.3516\n",
      "13058556.3516\n",
      "13058556.3516\n",
      "13058556.3516\n"
     ]
    }
   ],
   "source": [
    "sm = summaries\n",
    "\n",
    "for iteration in sm.items():    \n",
    "    summary = iteration[1]\n",
    "    print(summary['rss'])\n",
    "    print(summary['euclidean'])\n"
   ]
  }
 ],
 "metadata": {
  "kernelspec": {
   "display_name": "Python [Root]",
   "language": "python",
   "name": "Python [Root]"
  },
  "language_info": {
   "codemirror_mode": {
    "name": "ipython",
    "version": 3
   },
   "file_extension": ".py",
   "mimetype": "text/x-python",
   "name": "python",
   "nbconvert_exporter": "python",
   "pygments_lexer": "ipython3",
   "version": "3.5.2"
  }
 },
 "nbformat": 4,
 "nbformat_minor": 0
}
