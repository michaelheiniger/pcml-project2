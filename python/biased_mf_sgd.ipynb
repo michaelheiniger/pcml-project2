{
 "cells": [
  {
   "cell_type": "code",
   "execution_count": 2,
   "metadata": {
    "collapsed": false
   },
   "outputs": [],
   "source": [
    "%matplotlib inline\n",
    "import numpy as np\n",
    "import scipy\n",
    "import scipy.io\n",
    "import scipy.sparse as sp\n",
    "import matplotlib.pyplot as plt\n",
    "from helpers import *\n",
    "from plots import *\n",
    "from mf_sgd import *\n",
    "from baseline_predictions import *\n",
    "%load_ext autoreload\n",
    "%autoreload 2"
   ]
  },
  {
   "cell_type": "markdown",
   "metadata": {},
   "source": [
    "# 1) Load Data"
   ]
  },
  {
   "cell_type": "code",
   "execution_count": 3,
   "metadata": {
    "collapsed": false
   },
   "outputs": [
    {
     "name": "stdout",
     "output_type": "stream",
     "text": [
      "number of items: 10000, number of users: 1000\n"
     ]
    },
    {
     "data": {
      "image/png": "[encoded data removed]",
      "text/plain": [
       "<matplotlib.figure.Figure at 0x110caefd0>"
      ]
     },
     "metadata": {},
     "output_type": "display_data"
    }
   ],
   "source": [
    "path_dataset = \"/Users/chiara/Documents/EPFL/Master/Ma1/MachineLearning/project2/data/data_train.csv\"\n",
    "ratings = load_data(path_dataset)\n",
    "\n",
    "num_items_per_user, num_users_per_item = plot_raw_data(ratings)"
   ]
  },
  {
   "cell_type": "markdown",
   "metadata": {},
   "source": [
    "# 2) Run biased MF"
   ]
  },
  {
   "cell_type": "code",
   "execution_count": 4,
   "metadata": {
    "collapsed": false
   },
   "outputs": [
    {
     "name": "stdout",
     "output_type": "stream",
     "text": [
      "Total number of nonzero elements in origial data:1176952\n",
      "Total number of nonzero elements in train data:1059256\n",
      "Total number of nonzero elements in test data:117696\n"
     ]
    }
   ],
   "source": [
    "valid_ratings, train, test = split_data(ratings, num_items_per_user, num_users_per_item, min_num_ratings=0)"
   ]
  },
  {
   "cell_type": "code",
   "execution_count": 11,
   "metadata": {
    "collapsed": false,
    "scrolled": true
   },
   "outputs": [
    {
     "name": "stdout",
     "output_type": "stream",
     "text": [
      "Learn the matrix factorization using SGD...\n",
      "iter: 0, RMSE on training set: [ 1.1257821].\n",
      "RMSE on test data: [ 1.12657245].\n",
      "iter: 1, RMSE on training set: [ 1.03484074].\n",
      "RMSE on test data: [ 1.03708034].\n",
      "iter: 2, RMSE on training set: [ 1.01354111].\n",
      "RMSE on test data: [ 1.01675649].\n",
      "iter: 3, RMSE on training set: [ 0.99962882].\n",
      "RMSE on test data: [ 1.00369173].\n",
      "iter: 4, RMSE on training set: [ 0.98879458].\n",
      "RMSE on test data: [ 0.99359545].\n",
      "iter: 5, RMSE on training set: [ 0.9798532].\n",
      "RMSE on test data: [ 0.98528313].\n",
      "iter: 6, RMSE on training set: [ 0.97231631].\n",
      "RMSE on test data: [ 0.97827335].\n",
      "iter: 7, RMSE on training set: [ 0.96591521].\n",
      "RMSE on test data: [ 0.97230812].\n",
      "iter: 8, RMSE on training set: [ 0.96046644].\n",
      "RMSE on test data: [ 0.96721627].\n",
      "iter: 9, RMSE on training set: [ 0.95582771].\n",
      "RMSE on test data: [ 0.96286768].\n",
      "iter: 10, RMSE on training set: [ 0.95188139].\n",
      "RMSE on test data: [ 0.95915588].\n",
      "iter: 11, RMSE on training set: [ 0.94852732].\n",
      "RMSE on test data: [ 0.95599044].\n",
      "iter: 12, RMSE on training set: [ 0.94567915].\n",
      "RMSE on test data: [ 0.95329351].\n",
      "iter: 13, RMSE on training set: [ 0.94326245].\n",
      "RMSE on test data: [ 0.95099817].\n",
      "iter: 14, RMSE on training set: [ 0.94121363].\n",
      "RMSE on test data: [ 0.94904758].\n",
      "iter: 15, RMSE on training set: [ 0.93947892].\n",
      "RMSE on test data: [ 0.94739391].\n",
      "iter: 16, RMSE on training set: [ 0.93801319].\n",
      "RMSE on test data: [ 0.94599688].\n",
      "iter: 17, RMSE on training set: [ 0.93677847].\n",
      "RMSE on test data: [ 0.94482201].\n",
      "iter: 18, RMSE on training set: [ 0.93574248].\n",
      "RMSE on test data: [ 0.94383908].\n",
      "iter: 19, RMSE on training set: [ 0.93487729].\n",
      "RMSE on test data: [ 0.94302106].\n",
      "iter: 20, RMSE on training set: [ 0.9341585].\n",
      "RMSE on test data: [ 0.94234374].\n",
      "iter: 21, RMSE on training set: [ 0.93356467].\n",
      "RMSE on test data: [ 0.9417857].\n",
      "iter: 22, RMSE on training set: [ 0.93307692].\n",
      "RMSE on test data: [ 0.94132827].\n",
      "iter: 23, RMSE on training set: [ 0.9326786].\n",
      "RMSE on test data: [ 0.94095531].\n",
      "iter: 24, RMSE on training set: [ 0.93235495].\n",
      "RMSE on test data: [ 0.94065275].\n",
      "iter: 25, RMSE on training set: [ 0.93209298].\n",
      "RMSE on test data: [ 0.94040835].\n",
      "iter: 26, RMSE on training set: [ 0.93188141].\n",
      "RMSE on test data: [ 0.94021146].\n",
      "iter: 27, RMSE on training set: [ 0.93171065].\n",
      "RMSE on test data: [ 0.94005299].\n",
      "iter: 28, RMSE on training set: [ 0.9315727].\n",
      "RMSE on test data: [ 0.93992534].\n",
      "iter: 29, RMSE on training set: [ 0.93146102].\n",
      "RMSE on test data: [ 0.93982231].\n"
     ]
    }
   ],
   "source": [
    "from biased_mf_sgd import mf_sgd_biased\n",
    "lambda_ = 0\n",
    "num_features = 20\n",
    "gamma = 0.02\n",
    "num_epochs = 30\n",
    "rmse_train, rmse_test = mf_sgd_biased(train, test, num_epochs, gamma, num_features, lambda_)"
   ]
  },
  {
   "cell_type": "code",
   "execution_count": 12,
   "metadata": {
    "collapsed": false
   },
   "outputs": [
    {
     "data": {
      "image/png": "[encoded data removed]",
      "text/plain": [
       "<matplotlib.figure.Figure at 0x122072780>"
      ]
     },
     "metadata": {},
     "output_type": "display_data"
    }
   ],
   "source": [
    "from plots import visualization_rmse_vs_num_epochs\n",
    "visualization_rmse_vs_num_epochs(num_epochs, rmse_train, rmse_test, \"biased_mf\")"
   ]
  },
  {
   "cell_type": "markdown",
   "metadata": {},
   "source": [
    "# 3) make submission"
   ]
  },
  {
   "cell_type": "code",
   "execution_count": 8,
   "metadata": {
    "collapsed": false
   },
   "outputs": [
    {
     "name": "stdout",
     "output_type": "stream",
     "text": [
      "learn the matrix factorization using SGD...\n",
      "Starting epoch number 0\n",
      "Starting epoch number 5\n",
      "Starting epoch number 10\n",
      "Starting epoch number 15\n"
     ]
    }
   ],
   "source": [
    "from biased_mf_sgd import mf_sgd_biased_compute_predictions\n",
    "\n",
    "X_hat, rmse = mf_sgd_biased_compute_predictions(ratings, num_epochs, gamma, num_features, lambda_)"
   ]
  },
  {
   "cell_type": "code",
   "execution_count": 10,
   "metadata": {
    "collapsed": false
   },
   "outputs": [
    {
     "name": "stdout",
     "output_type": "stream",
     "text": [
      "999   0\n"
     ]
    }
   ],
   "source": [
    "from collections import deque\n",
    "import datetime\n",
    "now = datetime.datetime.now()\n",
    "now_str = now.strftime(\"%d-%m-%Y_%Hh%M_%S\")\n",
    "output_path = '/Users/chiara/Documents/EPFL/Master/Ma1/MachineLearning/project2/data/predictions-%s-group-clm.csv' % now_str\n",
    "\n",
    "indices = extract_indices('/Users/chiara/Documents/EPFL/Master/Ma1/MachineLearning/project2/data/sampleSubmission.csv')\n",
    "\n",
    "ratings_to_write = deque()\n",
    "for row, col in indices:\n",
    "    ratings_to_write.append((row, col, X_hat[row,col]))\n",
    "    \n",
    "create_csv_submission(ratings_to_write, output_path)"
   ]
  }
 ],
 "metadata": {
  "anaconda-cloud": {},
  "kernelspec": {
   "display_name": "Python [Root]",
   "language": "python",
   "name": "Python [Root]"
  },
  "language_info": {
   "codemirror_mode": {
    "name": "ipython",
    "version": 3
   },
   "file_extension": ".py",
   "mimetype": "text/x-python",
   "name": "python",
   "nbconvert_exporter": "python",
   "pygments_lexer": "ipython3",
   "version": "3.5.2"
  }
 },
 "nbformat": 4,
 "nbformat_minor": 0
}
