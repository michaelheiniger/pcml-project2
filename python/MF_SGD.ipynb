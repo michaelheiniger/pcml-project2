{
 "cells": [
  {
   "cell_type": "code",
   "execution_count": 1,
   "metadata": {
    "collapsed": false
   },
   "outputs": [],
   "source": [
    "%matplotlib inline\n",
    "import numpy as np\n",
    "import scipy\n",
    "import scipy.io\n",
    "import scipy.sparse as sp\n",
    "import matplotlib.pyplot as plt\n",
    "from helpers import *\n",
    "from plots import *\n",
    "from mf_sgd import *\n",
    "from baseline_predictions import *\n",
    "%load_ext autoreload\n",
    "%autoreload 2"
   ]
  },
  {
   "cell_type": "markdown",
   "metadata": {},
   "source": [
    "# 1) Load data"
   ]
  },
  {
   "cell_type": "code",
   "execution_count": 2,
   "metadata": {
    "collapsed": false
   },
   "outputs": [
    {
     "name": "stdout",
     "output_type": "stream",
     "text": [
      "number of items: 10000, number of users: 1000\n"
     ]
    },
    {
     "data": {
      "image/png": "[encoded data removed]",
      "text/plain": [
       "<matplotlib.figure.Figure at 0x7f7b2c5fc6a0>"
      ]
     },
     "metadata": {},
     "output_type": "display_data"
    }
   ],
   "source": [
    "path_dataset = \"../data/data_train.csv\"\n",
    "ratings = load_data(path_dataset)\n",
    "\n",
    "num_items_per_user, num_users_per_item = plot_raw_data(ratings)"
   ]
  },
  {
   "cell_type": "markdown",
   "metadata": {},
   "source": [
    "# 2) Find the best values of the hyper-parameters"
   ]
  },
  {
   "cell_type": "markdown",
   "metadata": {},
   "source": [
    "## Find the number of iterations until convergence: 20 seems enough"
   ]
  },
  {
   "cell_type": "code",
   "execution_count": null,
   "metadata": {
    "collapsed": false
   },
   "outputs": [],
   "source": [
    "_,train_for_epochs,test_for_epochs = split_data(ratings, num_items_per_user, num_users_per_item, min_num_ratings=0, p_test=0.1)"
   ]
  },
  {
   "cell_type": "code",
   "execution_count": null,
   "metadata": {
    "collapsed": false
   },
   "outputs": [],
   "source": [
    "gamma = 0.01\n",
    "num_features=20\n",
    "lambda_user = 0\n",
    "lambda_item = 0\n",
    "num_epochs = 35\n",
    "\n",
    "rmse_train, rmse_test = mf_sgd_regularized(train_for_epochs, test_for_epochs, num_epochs, gamma, num_features, lambda_user, lambda_item)"
   ]
  },
  {
   "cell_type": "code",
   "execution_count": null,
   "metadata": {
    "collapsed": false,
    "scrolled": false
   },
   "outputs": [],
   "source": [
    "filename = \"mf_cv_num_epoch.png\"\n",
    "\n",
    "# Visualization of the evolution of the RMSE versus the epochs\n",
    "visualization_num_epochs(rmse_train, rmse_test, num_epochs, filename)"
   ]
  },
  {
   "cell_type": "markdown",
   "metadata": {},
   "source": [
    "## Find  \"number of features\""
   ]
  },
  {
   "cell_type": "code",
   "execution_count": null,
   "metadata": {
    "collapsed": false,
    "scrolled": false
   },
   "outputs": [
    {
     "name": "stdout",
     "output_type": "stream",
     "text": [
      "Learn the matrix factorization using SGD...\n"
     ]
    }
   ],
   "source": [
    "lambda_item = 0\n",
    "lambda_user = 0\n",
    "\n",
    "num_features = np.arange(10,280,30)\n",
    "\n",
    "k_fold = 4\n",
    "num_epochs = 20\n",
    "gamma = 0.01\n",
    "\n",
    "# Run cross-validation to find the best value of lambda item. The output is a plot of RMSE vs lambda\n",
    "rmse_tr, rmse_te = run_mf_cv_num_features(ratings, k_fold, num_epochs, num_features, lambda_user, lambda_item)"
   ]
  },
  {
   "cell_type": "code",
   "execution_count": null,
   "metadata": {
    "collapsed": true
   },
   "outputs": [],
   "source": [
    "filename = \"mf_sgd_cv_num_features.png\"\n",
    "visualization_num_features(rmse_tr, rmse_te, num_features, filename)"
   ]
  },
  {
   "cell_type": "markdown",
   "metadata": {},
   "source": [
    "## Find lambda user"
   ]
  },
  {
   "cell_type": "code",
   "execution_count": null,
   "metadata": {
    "collapsed": false
   },
   "outputs": [],
   "source": [
    "lambdas_user = np.array([0.0000001, 0.000001, 0.00001, 0.0001, 0.001, 0.005, 0.01, 0.05, 0.1, 0.5, 1, 3])[:,np.newaxis]\n",
    "lambda_item = 0\n",
    "\n",
    "num_features = 20\n",
    "\n",
    "k_fold = 4\n",
    "num_epochs = 20\n",
    "gamma = 0.01\n",
    "\n",
    "# Run cross-validation to find the best value of lambda user. The output is a plot of RMSE vs lambda\n",
    "rmse_tr, rmse_te = run_mf_cv_lambda_user(ratings, k_fold, num_epochs, num_features, lambdas_user, lambda_item)"
   ]
  },
  {
   "cell_type": "code",
   "execution_count": null,
   "metadata": {
    "collapsed": true
   },
   "outputs": [],
   "source": [
    "filename = \"mf_sgd_reg_cv_lambda_user.png\"\n",
    "visualization_lambda_user(rmse_tr, rmse_te, lambdas_user, filename)"
   ]
  },
  {
   "cell_type": "markdown",
   "metadata": {},
   "source": [
    "## Find lambda item"
   ]
  },
  {
   "cell_type": "code",
   "execution_count": null,
   "metadata": {
    "collapsed": false
   },
   "outputs": [],
   "source": [
    "lambdas_item = np.array([0.0000001, 0.000001, 0.00001, 0.0001, 0.001, 0.005, 0.01, 0.05, 0.1, 0.5, 1, 3])[:,np.newaxis]\n",
    "lambda_user = 0\n",
    "\n",
    "num_features = 20\n",
    "\n",
    "k_fold = 4\n",
    "num_epochs = 20\n",
    "gamma = 0.01\n",
    "\n",
    "# Run cross-validation to find the best value of lambda item. The output is a plot of RMSE vs lambda\n",
    "rmse_tr, rmse_te = run_mf_cv_lambda_item(ratings, k_fold, num_epochs, num_features, lambda_user, lambdas_item)"
   ]
  },
  {
   "cell_type": "code",
   "execution_count": null,
   "metadata": {
    "collapsed": true
   },
   "outputs": [],
   "source": [
    "filename = \"mf_sgd_reg_cv_lambda_item.png\"\n",
    "visualization_lambda_item(rmse_tr, rmse_te, lambdas_item, filename)"
   ]
  },
  {
   "cell_type": "markdown",
   "metadata": {},
   "source": [
    "## (Find lambdas user and item) - useful ?"
   ]
  },
  {
   "cell_type": "code",
   "execution_count": null,
   "metadata": {
    "collapsed": false
   },
   "outputs": [],
   "source": [
    "from mf_sgd import *\n",
    "from plots import *\n",
    "\n",
    "num_epochs = 10 \n",
    "gamma = 0.01\n",
    "\n",
    "lambdas = np.array([0.0001, 0.01, 0.05, 0.1, 0.5])[:,np.newaxis]\n",
    "\n",
    "lambdas_user = np.repeat(lambdas, len(lambdas))[:,np.newaxis]\n",
    "lambdas_item = np.kron(np.ones((len(lambdas),1)), lambdas)\n",
    "\n",
    "num_experiments = len(lambdas_user)\n",
    "rmse_train = np.zeros((num_experiments, 1))\n",
    "rmse_test = np.zeros((num_experiments, 1))\n",
    "\n",
    "num_features = 30\n",
    "\n",
    "for i in range(0, len(lambdas_user)):\n",
    "    print('MF SGD started for lambdas(user,item) = (%s,%s)' % (str(lambdas_user[i]),str(lambdas_item[i])))\n",
    "    rmse_train[i], rmse_test[i] = mf_sgd(train, test, num_epochs, gamma, num_features, lambdas_user[i], lambdas_item[i])\n"
   ]
  },
  {
   "cell_type": "code",
   "execution_count": null,
   "metadata": {
    "collapsed": false,
    "scrolled": true
   },
   "outputs": [],
   "source": [
    "visualization_rmse_vs_lambdas(lambdas_user, lambdas_item, rmse_train, rmse_test, \"rmse_vs_lambdas.png\")\n"
   ]
  },
  {
   "cell_type": "markdown",
   "metadata": {},
   "source": [
    "# Comparison of different models"
   ]
  },
  {
   "cell_type": "code",
   "execution_count": null,
   "metadata": {
    "collapsed": true
   },
   "outputs": [],
   "source": [
    "def print_results(rmse_tr, rmse_te):\n",
    "    mean_tr = np.mean(rmse_tr, axis=0)\n",
    "    std_tr = np.std(rmse_tr, axis=0)\n",
    "\n",
    "    mean_te = np.mean(rmse_te, axis=0)\n",
    "    std_te = np.std(rmse_te, axis=0)\n",
    "\n",
    "    print(\"RMSE train, mean: %f, std: %f\" % (mean_tr, std_tr))\n",
    "    print(\"RMSE test, mean: %f, std: %f\" % (mean_te, std_te))"
   ]
  },
  {
   "cell_type": "code",
   "execution_count": null,
   "metadata": {
    "collapsed": true
   },
   "outputs": [],
   "source": [
    "# Common parameters\n",
    "k_fold = 4\n",
    "num_epochs = 30\n",
    "num_features = 20"
   ]
  },
  {
   "cell_type": "markdown",
   "metadata": {},
   "source": [
    "# Different baselines"
   ]
  },
  {
   "cell_type": "markdown",
   "metadata": {},
   "source": [
    "## Global mean baseline"
   ]
  },
  {
   "cell_type": "code",
   "execution_count": null,
   "metadata": {
    "collapsed": false,
    "scrolled": true
   },
   "outputs": [],
   "source": [
    "rmse_tr, rmse_te = run_cross_validation_global_baseline(ratings, k_fold)\n",
    "\n",
    "print_results(rmse_tr, rmse_te)"
   ]
  },
  {
   "cell_type": "markdown",
   "metadata": {},
   "source": [
    "## User mean baseline"
   ]
  },
  {
   "cell_type": "code",
   "execution_count": null,
   "metadata": {
    "collapsed": false
   },
   "outputs": [],
   "source": [
    "rmse_tr, rmse_te = run_cross_validation_user_baseline(ratings, k_fold)\n",
    "\n",
    "print_results(rmse_tr, rmse_te)"
   ]
  },
  {
   "cell_type": "markdown",
   "metadata": {},
   "source": [
    "## Item mean baseline"
   ]
  },
  {
   "cell_type": "code",
   "execution_count": null,
   "metadata": {
    "collapsed": false
   },
   "outputs": [],
   "source": [
    "rmse_tr, rmse_te = run_cross_validation_item_baseline(ratings, k_fold)\n",
    "\n",
    "print_results(rmse_tr, rmse_te)"
   ]
  },
  {
   "cell_type": "markdown",
   "metadata": {},
   "source": [
    "## MF without regularizer"
   ]
  },
  {
   "cell_type": "code",
   "execution_count": null,
   "metadata": {
    "collapsed": false
   },
   "outputs": [],
   "source": [
    "rmse_tr, rmse_te = run_mf_cv(ratings, k_fold, num_epochs, num_features)\n",
    "\n",
    "print_results(rmse_tr, rmse_te)"
   ]
  },
  {
   "cell_type": "markdown",
   "metadata": {},
   "source": [
    "## MF with regularizer"
   ]
  },
  {
   "cell_type": "code",
   "execution_count": null,
   "metadata": {
    "collapsed": false
   },
   "outputs": [],
   "source": [
    "lambda_user = 0.001\n",
    "lambdas_item = 0.1\n",
    "rmse_tr, rmse_te = run_mf_reg_cv(ratings, k_fold, num_epochs, num_features, lambda_user, lambdas_item)\n",
    "\n",
    "print_results(rmse_tr, rmse_te)"
   ]
  },
  {
   "cell_type": "markdown",
   "metadata": {},
   "source": [
    "# 3) Compute best predictions using the best values of the hyper-parameters"
   ]
  },
  {
   "cell_type": "code",
   "execution_count": 21,
   "metadata": {
    "collapsed": false
   },
   "outputs": [
    {
     "name": "stdout",
     "output_type": "stream",
     "text": [
      "learn the matrix factorization using SGD...\n",
      "Starting epoch number 0\n",
      "Starting epoch number 5\n",
      "Starting epoch number 10\n",
      "Starting epoch number 15\n",
      "Starting epoch number 20\n",
      "Starting epoch number 25\n"
     ]
    }
   ],
   "source": [
    "\"\"\"matrix factorization by SGD.\"\"\"\n",
    "\n",
    "# Use all ratings\n",
    "data = ratings\n",
    "\n",
    "# Parameters\n",
    "gamma = 0.01\n",
    "num_features = 40\n",
    "lambda_user = 0.001\n",
    "lambda_item = 0.1\n",
    "num_epochs = 30\n",
    "\n",
    "X_hat, rmse = mf_sgd_compute_predictions(data, num_epochs, gamma, num_features, lambda_user, lambda_item)"
   ]
  },
  {
   "cell_type": "code",
   "execution_count": 22,
   "metadata": {
    "collapsed": false
   },
   "outputs": [
    {
     "name": "stdout",
     "output_type": "stream",
     "text": [
      "(30,)\n"
     ]
    },
    {
     "data": {
      "image/png": "[encoded data removed]",
      "text/plain": [
       "<matplotlib.figure.Figure at 0x7f7b0602e518>"
      ]
     },
     "metadata": {},
     "output_type": "display_data"
    }
   ],
   "source": [
    "filename = \"rmse_vs_num_epochs_best_predictions.png\"\n",
    "visualization_num_epochs_best_predictions(rmse, num_epochs, filename)"
   ]
  },
  {
   "cell_type": "markdown",
   "metadata": {},
   "source": [
    "# 4) Create submission from the best predictions \n",
    "Note: Run steps 1 and 3 before 4"
   ]
  },
  {
   "cell_type": "code",
   "execution_count": 23,
   "metadata": {
    "collapsed": false
   },
   "outputs": [
    {
     "name": "stdout",
     "output_type": "stream",
     "text": [
      "999   0\n"
     ]
    }
   ],
   "source": [
    "from collections import deque\n",
    "import datetime\n",
    "from helpers import *\n",
    "now = datetime.datetime.now()\n",
    "now_str = now.strftime(\"%d-%m-%Y_%Hh%M_%S\")\n",
    "output_path = '../data/predictions-%s-group-clm_.csv' % now_str\n",
    "\n",
    "indices = extract_indices('../data/sampleSubmission.csv')\n",
    "\n",
    "ratings_to_write = deque()\n",
    "for row, col in indices:\n",
    "    ratings_to_write.append((row, col, X_hat[row,col]))\n",
    "    \n",
    "create_csv_submission(ratings_to_write, output_path)\n"
   ]
  }
 ],
 "metadata": {
  "anaconda-cloud": {},
  "kernelspec": {
   "display_name": "Python [Root]",
   "language": "python",
   "name": "Python [Root]"
  },
  "language_info": {
   "codemirror_mode": {
    "name": "ipython",
    "version": 3
   },
   "file_extension": ".py",
   "mimetype": "text/x-python",
   "name": "python",
   "nbconvert_exporter": "python",
   "pygments_lexer": "ipython3",
   "version": "3.5.2"
  }
 },
 "nbformat": 4,
 "nbformat_minor": 0
}
